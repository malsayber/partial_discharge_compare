{
 "cells": [
  {
   "cell_type": "markdown",
   "metadata": {},
   "source": [
    "# Feature Extraction Tutorial\n",
    "\n",
    "This tutorial demonstrates how to generate a synthetic dataset, extract useful features with **featurewiz**, run the ML workflow provided in `ml_flow/main.py`, and finally create an MNE report summarizing the results."
   ]
  },
  {
   "cell_type": "code",
   "execution_count": null,
   "metadata": {},
   "outputs": [],
   "source": [
    "from sklearn.datasets import make_classification\n",
    "import pandas as pd\n",
    "\n",
    "# Generate synthetic data\n",
    "X, y = make_classification(n_samples=200, n_features=20, n_informative=5,\n",
    "                           n_redundant=2, random_state=42)\n",
    "feature_cols = [f'feat_{i}' for i in range(X.shape[1])]\n",
    "df = pd.DataFrame(X, columns=feature_cols)\n",
    "df['target'] = y\n",
    "df.head()"
   ]
  },
  {
   "cell_type": "markdown",
   "metadata": {},
   "source": [
    "## YAML configuration for featurewiz\n",
    "\n",
    "Featurewiz allows configuration via a YAML file. Below we create a simple YAML file that specifies the target column and the correlation limit used when expanding and selecting features."
   ]
  },
  {
   "cell_type": "code",
   "execution_count": null,
   "metadata": {},
   "outputs": [],
   "source": [
    "import yaml\n",
    "\n",
    "featurewiz_conf = {\n",
    "    'target': 'target',\n",
    "    'corr_limit': 0.7,\n",
    "    'feature_engineering': True\n",
    "}\n",
    "with open('featurewiz_config.yaml', 'w') as f:\n",
    "    yaml.dump(featurewiz_conf, f)\n",
    "print(open('featurewiz_config.yaml').read())"
   ]
  },
  {
   "cell_type": "markdown",
   "metadata": {},
   "source": [
    "## Feature extraction using featurewiz\n",
    "\n",
    "The `featurewiz` library reads the YAML configuration and automatically expands the dataset with engineered features, dropping highly correlated or uninformative columns. The resulting feature list is then used for modelling."
   ]
  },
  {
   "cell_type": "code",
   "execution_count": null,
   "metadata": {},
   "outputs": [],
   "source": [
    "from featurewiz import featurewiz\n",
    "\n",
    "selected_features, processed_df = featurewiz(\n",
    "    df,\n",
    "    target='target',\n",
    "    corr_limit=featurewiz_conf['corr_limit'],\n",
    "    verbose=2,\n",
    "    feature_engg=featurewiz_conf['feature_engineering'],\n",
    ")\n",
    "selected_features"
   ]
  },
  {
   "cell_type": "markdown",
   "metadata": {},
   "source": [
    "## Run the ML workflow\n",
    "\n",
    "The workflow in `ml_flow/main.py` trains several traditional models and evaluates them. Results are stored in the `ml_flow` directory." 
   ]
  },
  {
   "cell_type": "code",
   "execution_count": null,
   "metadata": {},
   "outputs": [],
   "source": [
    "import subprocess\n",
    "subprocess.run(['python', '../ml_flow/main.py', '--config', '../ml_flow/config.json'])"
   ]
  },
  {
   "cell_type": "markdown",
   "metadata": {},
   "source": [
    "## Produce an MNE report\n",
    "\n",
    "Finally we create a simple MNE `Report` summarizing the synthetic signals and model evaluation results. MNE reports can embed figures, tables and raw data previews for convenient review."
   ]
  },
  {
   "cell_type": "code",
   "execution_count": null,
   "metadata": {},
   "outputs": [],
   "source": [
    "import mne\n",
    "\n",
    "sfreq = 100.0\n",
    "info = mne.create_info(ch_names=['feat_0', 'feat_1'], sfreq=sfreq, ch_types=['misc', 'misc'])\n",
    "raw = mne.io.RawArray(df[['feat_0','feat_1']].T.values, info)\n",
    "\n",
    "report = mne.Report(title='Synthetic feature report')\n",
    "fig_psd = raw.compute_psd(fmax=50).plot()\n",
    "report.add_figure(fig_psd, title='PSD of synthetic features')\n",
    "report.save('mne_report.html', overwrite=True)"
   ]
  }
 ],
 "metadata": {
  "kernelspec": {
   "display_name": "Python 3",
   "language": "python",
   "name": "python3"
  }
 },
 "nbformat": 4,
 "nbformat_minor": 5
}
=======
{"cells": [{"cell_type": "markdown", "metadata": {}, "source": ["# Feature Extraction Tutorial"]}, {"cell_type": "code", "execution_count": null, "metadata": {}, "outputs": [], "source": ["from feature_extraction import time_mean, time_std, time_rms, dominant_frequency, spectral_entropy\n", "from unitest.fixtures.synthetic_pd import generate_synthetic_partial_discharge\n", "df = generate_synthetic_partial_discharge(num_good=1, num_fault=1)\n", "signal = df.iloc[0, :-1].to_numpy()\n"]}, {"cell_type": "code", "execution_count": null, "metadata": {}, "outputs": [], "source": ["print('mean', time_mean(signal))\n", "print('std', time_std(signal))\n", "print('rms', time_rms(signal))\n", "print('dominant freq', dominant_frequency(signal))\n", "print('entropy', spectral_entropy(signal))"]}], "metadata": {"kernelspec": {"display_name": "Python 3", "language": "python", "name": "python3"}}, "nbformat": 4, "nbformat_minor": 5}
