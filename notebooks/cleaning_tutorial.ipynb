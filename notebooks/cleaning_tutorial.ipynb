{
 "cells": [
  {
   "cell_type": "markdown",
   "metadata": {},
   "source": [
    "# Cleaning Functions Tutorial\n",
    "This notebook demonstrates usage of the preprocessing cleaning helpers.",
    "\nRaw signals are organised under `dataset/contactless_pd_detection/station_<id>/*.npy`. The cleaned outputs are saved under `partial_discharge_project/station_<id>/data_clean/`."
   ]
  },
  {
   "cell_type": "code",
   "execution_count": null,
   "metadata": {},
   "outputs": [],
   "source": [
    "import numpy as np\n",
    "from preprocess import cleaning\n",
    "\n",
    "signal = np.sin(np.linspace(0, 10, 1000)) + 0.1*np.random.randn(1000)\n",
    "filt = cleaning.bandpass_filter(signal, 1.0, 30.0, fs=100.0)\n",
    "den = cleaning.advanced_denoise(filt, method='ewt')\n",
    "norm = cleaning.zscore_normalize(den)\n",
    "norm[:5]",
    "\ncleaning.save_cleaned_signal(norm, 'station_demo', 'standard_denoising_normalisation', 'demo_signal')"
   ]
  }
 ],
 "metadata": {
  "kernelspec": {
   "display_name": "Python 3",
   "language": "python",
   "name": "python3"
  },
  "language_info": {
   "name": "python",
   "version": "3.12"
  }
 },
 "nbformat": 4,
 "nbformat_minor": 5
}
