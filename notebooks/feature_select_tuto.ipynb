{
 "cells": [
  {
   "cell_type": "markdown",
   "metadata": {},
   "source": [
    "# Feature Selection Tutorial"
   ]
  },
  {
   "cell_type": "markdown",
   "metadata": {},
   "source": [
    "This notebook provides a tutorial on various feature selection techniques. We will use the Iris dataset from `scikit-learn` for demonstration purposes."
   ]
  },
  {
   "cell_type": "code",
   "execution_count": null,
   "metadata": {},
   "outputs": [],
   "source": [
    "import pandas as pd\n",
    "from sklearn.datasets import load_iris\n",
    "from sklearn.feature_selection import SelectKBest, f_classif, RFE, SelectFromModel\n",
    "from sklearn.linear_model import LogisticRegression\n",
    "from sklearn.ensemble import RandomForestClassifier\n",
    "from featurewiz import featurewiz"
   ]
  },
  {
   "cell_type": "markdown",
   "metadata": {},
   "source": [
    "## 1. Loading the Data"
   ]
  },
  {
   "cell_type": "code",
   "execution_count": null,
   "metadata": {},
   "outputs": [],
   "source": [
    "iris = load_iris()\n",
    "X = pd.DataFrame(iris.data, columns=iris.feature_names)\n",
    "y = pd.Series(iris.target, name='target')"
   ]
  },
  {
   "cell_type": "code",
   "execution_count": null,
   "metadata": {},
   "outputs": [],
   "source": [
    "X.head()"
   ]
  },
  {
   "cell_type": "markdown",
   "metadata": {},
   "source": [
    "## 2. Filter Methods"
   ]
  },
  {
   "cell_type": "markdown",
   "metadata": {},
   "source": [
    "Filter methods select features based on their statistical properties. We will use `SelectKBest` with the `f_classif` scoring function."
   ]
  },
  {
   "cell_type": "code",
   "execution_count": null,
   "metadata": {},
   "outputs": [],
   "source": [
    "selector_kbest = SelectKBest(f_classif, k=2)\n",
    "X_kbest = selector_kbest.fit_transform(X, y)\n",
    "selected_features_kbest = X.columns[selector_kbest.get_support()]\n",
    "print(f\"Selected features (SelectKBest): {list(selected_features_kbest)}\"")"
   ]
  },
  {
   "cell_type": "markdown",
   "metadata": {},
   "source": [
    "## 3. Wrapper Methods"
   ]
  },
  {
   "cell_type": "markdown",
   "metadata": {},
   "source": [
    "Wrapper methods use a predictive model to score feature subsets. We will use Recursive Feature Elimination (RFE)."
   ]
  },
  {
   "cell_type": "code",
   "execution_count": null,
   "metadata": {},
   "outputs": [],
   "source": [
    "estimator_rfe = LogisticRegression(max_iter=200)\n",
    "selector_rfe = RFE(estimator_rfe, n_features_to_select=2, step=1)\n",
    "selector_rfe = selector_rfe.fit(X, y)\n",
    "selected_features_rfe = X.columns[selector_rfe.support_]\n",
    "print(f\"Selected features (RFE): {list(selected_features_rfe)}\"")"
   ]
  },
  {
   "cell_type": "markdown",
   "metadata": {},
   "source": [
    "## 4. Embedded Methods"
   ]
  },
  {
   "cell_type": "markdown",
   "metadata": {},
   "source": [
    "Embedded methods perform feature selection as part of the model training process. We will use `SelectFromModel` with a `RandomForestClassifier`."
   ]
  },
  {
   "cell_type": "code",
   "execution_count": null,
   "metadata": {},
   "outputs": [],
   "source": [
    "estimator_sfm = RandomForestClassifier(n_estimators=100, random_state=42)\n",
    "selector_sfm = SelectFromModel(estimator_sfm, max_features=2)\n",
    "selector_sfm.fit(X, y)\n",
    "selected_features_sfm = X.columns[selector_sfm.get_support()]\n",
    "print(f\"Selected features (SelectFromModel): {list(selected_features_sfm)}\"")"
   ]
  },
  {
   "cell_type": "markdown",
   "metadata": {},
   "source": [
    "## 5. Automated Feature Selection with featurewiz"
   ]
  },
  {
   "cell_type": "markdown",
   "metadata": {},
   "source": [
    "`featurewiz` is a library that automates the feature selection process."
   ]
  },
  {
   "cell_type": "code",
   "execution_count": null,
   "metadata": {},
   "outputs": [],
   "source": [
    "target = 'target'\n",
    "df = pd.concat([X, y], axis=1)\n",
    "features, train = featurewiz(df, target, corr_limit=0.70, verbose=2)"
   ]
  },
  {
   "cell_type": "markdown",
   "metadata": {},
   "source": [
    "## 6. Summary"
   ]
  },
  {
   "cell_type": "markdown",
   "metadata": {},
   "source": [
    "This notebook covered four different approaches to feature selection:\n",
    "* **Filter methods:** Fast, but don't consider feature interactions.\n",
    "* **Wrapper methods:** Can find good feature subsets, but can be computationally expensive.\n",
    "* **Embedded methods:** A good compromise between filter and wrapper methods.\n",
    "* **Automated methods:** Libraries like `featurewiz` can automate the process, but may require tuning."
   ]
  }
 ],
 "metadata": {
  "kernelspec": {
   "display_name": "Python 3",
   "language": "python",
   "name": "python3"
  },
  "language_info": {
   "codemirror_mode": {
    "name": "ipython",
    "version": 3
   },
   "file_extension": ".py",
   "mimetype": "text/x-python",
   "name": "python",
   "nbconvert_exporter": "python",
   "pygments_lexer": "ipython3",
   "version": "3.9.7"
  }
 },
 "nbformat": 4,
 "nbformat_minor": 4
}