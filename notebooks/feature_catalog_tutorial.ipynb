{
  "cells": [
    {
      "cell_type": "markdown",
      "metadata": {},
      "source": [
        "# Feature Catalog and Selection Tutorial\n",
        "\n",
        "This tutorial demonstrates how to configure and select features from **mne-features**, **librosa**, and custom extractors defined in `features/extractors.py`.\n",
        "We rely on the `config.yaml` file to enable or disable entire groups of features."
      ]
    },
    {
      "cell_type": "markdown",
      "metadata": {},
      "source": [
        "## Loading the Configuration\n",
        "The helper `config.load_config` reads `config.yaml` and validates the structure via pydantic models."
      ]
    },
    {
      "cell_type": "code",
      "execution_count": null,
      "metadata": {},
      "outputs": [],
      "source": [
        "import pprint\n",
        "import config\n",
        "from features import load_feature_catalog\n",
        "\n",
        "cfg = config.load_config()\n",
        "pprint.pp(cfg.features.model_dump())"
      ]
    },
    {
      "cell_type": "markdown",
      "metadata": {},
      "source": [
        "## Building the Catalog\n",
        "The function `load_feature_catalog` uses the configuration to return a dictionary mapping feature names to extractor callables."
      ]
    },
    {
      "cell_type": "code",
      "execution_count": null,
      "metadata": {},
      "outputs": [],
      "source": [
        "catalog = load_feature_catalog()\n",
        "list(catalog.keys())[:10]  # preview"
      ]
    },
    {
      "cell_type": "markdown",
      "metadata": {},
      "source": [
        "## Selecting Specific Libraries\n",
        "You can disable an entire block (e.g. `librosa`) by setting `enabled: false` in the `config.yaml` section. When `enable_all` is `false`, only the libraries explicitly enabled will be added."
      ]
    },
    {
      "cell_type": "code",
      "execution_count": null,
      "metadata": {},
      "outputs": [],
      "source": [
        "cfg.features.librosa.enabled = False\n",
        "catalog = load_feature_catalog()\n",
        "sorted(catalog)"
      ]
    },
    {
      "cell_type": "markdown",
      "metadata": {},
      "source": [
        "## Computing Features\n",
        "Each extractor takes a 1-D NumPy array (window) and the sampling rate `fs` when required."
      ]
    },
    {
      "cell_type": "code",
      "execution_count": null,
      "metadata": {},
      "outputs": [],
      "source": [
        "import numpy as np\n",
        "from unitest.fixtures.synthetic_pd import generate_synthetic_partial_discharge\n",
        "\n",
        "sample = generate_synthetic_partial_discharge(num_good=1, num_fault=0, length=256)\n",
        "window = sample.iloc[0, :-1].to_numpy(float)\n",
        "line_length = catalog['line_length'](window, fs=256.0)\n",
        "line_length"
      ]
    },
    {
      "cell_type": "markdown",
      "metadata": {},
      "source": [
        "## Batch Extraction from Cleaned Data\n",
        "The helper function `features.extract_from_clean()` scans `root_dir` for cleaned windows and saves features under `2_feature_engineering/` grouped by theme and cleaning method."
      ]
    },
    {
      "cell_type": "code",
      "metadata": {},
      "execution_count": null,
      "outputs": [],
      "source": [
  "from features import extract_from_clean\n",
  "\n",
  "# This will write Parquet feature files into outputs/features/*\n",
  "extract_from_clean(fs=256.0)"
      ]
    }
  ],
  "metadata": {
    "kernelspec": {
      "display_name": "Python 3",
      "language": "python",
      "name": "python3"
    },
    "language_info": {
      "name": "python",
      "version": "3.12"
    }
  },
  "nbformat": 4,
  "nbformat_minor": 5
}
