{
 "cells": [
  {
   "cell_type": "markdown",
   "metadata": {},
   "source": [
    "# Cleaning Functions Tutorial\n",
    "This notebook demonstrates usage of the preprocessing cleaning helpers."
   ]
  },
  {
   "cell_type": "code",
   "execution_count": null,
   "metadata": {},
   "outputs": [],
   "source": [
    "import numpy as np\n",
    "from preprocess import cleaning\n",
    "\n",
    "signal = np.sin(np.linspace(0, 10, 1000)) + 0.1*np.random.randn(1000)\n",
    "filt = cleaning.bandpass_filter(signal, 1.0, 30.0, fs=100.0)\n",
    "den = cleaning.advanced_denoise(filt, method='ewt')\n",
    "norm = cleaning.zscore_normalize(den)\n",
    "norm[:5]"
   ]
  }
 ],
 "metadata": {
  "kernelspec": {
   "display_name": "Python 3",
   "language": "python",
   "name": "python3"
  },
  "language_info": {
   "name": "python",
   "version": "3.12"
  }
 },
 "nbformat": 4,
 "nbformat_minor": 5
}
