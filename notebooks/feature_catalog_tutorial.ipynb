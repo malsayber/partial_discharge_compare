{
 "cells": [
  {
   "cell_type": "markdown",
   "metadata": {},
   "source": [
    "# Feature Catalog and Selection Tutorial\n",
    "\n",
    "This tutorial demonstrates how to configure and select features from **mne-features**, **librosa**, and custom extractors defined in `features/extractors.py`.\n",
    "We rely on the `config.yaml` file to enable or disable entire groups of features."
   ],
   "id": "ec7deaf50252e3e9"
  },
  {
   "cell_type": "markdown",
   "metadata": {},
   "source": [
    "## Loading the Configuration\n",
    "The helper `config.load_config` reads `config.yaml` and validates the structure via pydantic models."
   ],
   "id": "2cb52bec5d2486ca"
  },
  {
   "cell_type": "code",
   "metadata": {
    "ExecuteTime": {
     "end_time": "2025-06-29T15:09:35.490087Z",
     "start_time": "2025-06-29T15:09:30.619241Z"
    }
   },
   "source": [
    "import pprint\n",
    "import config\n",
    "from features import load_feature_catalog\n",
    "\n",
    "cfg = config.load_config()\n",
    "pprint.pp(cfg.features.model_dump())"
   ],
   "id": "2174b396810c6847",
   "outputs": [
    {
     "name": "stdout",
     "output_type": "stream",
     "text": [
      "{'enable_all': True,\n",
      " 'mne_features': {'enabled': True,\n",
      "                  'selected_features': ['line_length',\n",
      "                                        'zero_crossings',\n",
      "                                        'kurtosis',\n",
      "                                        'rms'],\n",
      "                  'freq_bands': {'delta': [0.5, 4.5],\n",
      "                                 'theta': [4.5, 8.5],\n",
      "                                 'alpha': [8.5, 11.5],\n",
      "                                 'sigma': [11.5, 15.5],\n",
      "                                 'beta': [15.5, 30.0]}},\n",
      " 'librosa': {'enabled': True,\n",
      "             'selected_features': ['spectral_centroid',\n",
      "                                   'spectral_bandwidth',\n",
      "                                   'mfcc']},\n",
      " 'custom': {'enabled': True,\n",
      "            'selected_features': ['time_skewness',\n",
      "                                  'time_kurtosis',\n",
      "                                  'time_rms',\n",
      "                                  'time_variance',\n",
      "                                  'peak_to_peak',\n",
      "                                  'zero_cross_rate',\n",
      "                                  'spectral_entropy',\n",
      "                                  'dominant_frequency',\n",
      "                                  'wavelet_energy',\n",
      "                                  'wavelet_entropy',\n",
      "                                  'wavelet_symlets_energy',\n",
      "                                  'multiscale_entropy']}}\n"
     ]
    }
   ],
   "execution_count": 1
  },
  {
   "cell_type": "markdown",
   "metadata": {},
   "source": [
    "## Building the Catalog\n",
    "The function `load_feature_catalog` uses the configuration to return a dictionary mapping feature names to extractor callables."
   ],
   "id": "c0ea45942ae693f0"
  },
  {
   "cell_type": "code",
   "metadata": {
    "ExecuteTime": {
     "end_time": "2025-06-29T15:09:35.625156Z",
     "start_time": "2025-06-29T15:09:35.620437Z"
    }
   },
   "source": [
    "catalog = load_feature_catalog()\n",
    "list(catalog.keys())[:10]  # preview"
   ],
   "id": "41e1bb62bd544bcf",
   "outputs": [
    {
     "data": {
      "text/plain": [
       "['time_skewness',\n",
       " 'time_kurtosis',\n",
       " 'time_rms',\n",
       " 'time_variance',\n",
       " 'peak_to_peak',\n",
       " 'zero_cross_rate',\n",
       " 'spectral_entropy',\n",
       " 'dominant_frequency',\n",
       " 'wavelet_energy',\n",
       " 'wavelet_entropy']"
      ]
     },
     "execution_count": 2,
     "metadata": {},
     "output_type": "execute_result"
    }
   ],
   "execution_count": 2
  },
  {
   "cell_type": "markdown",
   "metadata": {},
   "source": [
    "## Selecting Specific Libraries\n",
    "You can disable an entire block (e.g. `librosa`) by setting `enabled: false` in the `config.yaml` section. When `enable_all` is `false`, only the libraries explicitly enabled will be added."
   ],
   "id": "81482fb6532ee18a"
  },
  {
   "cell_type": "code",
   "metadata": {
    "ExecuteTime": {
     "end_time": "2025-06-29T15:09:35.638747Z",
     "start_time": "2025-06-29T15:09:35.635843Z"
    }
   },
   "source": [
    "cfg.features.librosa.enabled = False\n",
    "catalog = load_feature_catalog()\n",
    "sorted(catalog)"
   ],
   "id": "4175a3b8c44e4d98",
   "outputs": [
    {
     "data": {
      "text/plain": [
       "['dominant_frequency',\n",
       " 'kurtosis',\n",
       " 'line_length',\n",
       " 'mfcc',\n",
       " 'multiscale_entropy',\n",
       " 'peak_to_peak',\n",
       " 'rms',\n",
       " 'spectral_bandwidth',\n",
       " 'spectral_centroid',\n",
       " 'spectral_entropy',\n",
       " 'time_kurtosis',\n",
       " 'time_rms',\n",
       " 'time_skewness',\n",
       " 'time_variance',\n",
       " 'wavelet_energy',\n",
       " 'wavelet_entropy',\n",
       " 'wavelet_symlets_energy',\n",
       " 'zero_cross_rate',\n",
       " 'zero_crossings']"
      ]
     },
     "execution_count": 3,
     "metadata": {},
     "output_type": "execute_result"
    }
   ],
   "execution_count": 3
  },
  {
   "cell_type": "markdown",
   "metadata": {},
   "source": [
    "## Computing Features\n",
    "Each extractor takes a 1-D NumPy array (window) and the sampling rate `fs` when required."
   ],
   "id": "aa49eaa6245087e5"
  },
  {
   "cell_type": "code",
   "metadata": {
    "ExecuteTime": {
     "end_time": "2025-06-29T15:09:35.657138Z",
     "start_time": "2025-06-29T15:09:35.649746Z"
    }
   },
   "source": [
    "import numpy as np\n",
    "from unitest.fixtures.synthetic_pd import generate_synthetic_partial_discharge\n",
    "\n",
    "sample = generate_synthetic_partial_discharge(num_good=1, num_fault=0, length=256)\n",
    "window = sample.iloc[0, :-1].to_numpy(float)\n",
    "line_length = catalog['line_length'](window, fs=256.0)\n",
    "line_length"
   ],
   "id": "ebf71a0ca39182ce",
   "outputs": [
    {
     "data": {
      "text/plain": [
       "0.056226819264988084"
      ]
     },
     "execution_count": 4,
     "metadata": {},
     "output_type": "execute_result"
    }
   ],
   "execution_count": 4
  },
  {
   "cell_type": "markdown",
   "metadata": {},
   "source": [
    "## Batch Extraction from Cleaned Data\n",
    "The helper function `features.extract_from_clean()` scans `root_dir` for cleaned windows and saves features under `2_feature_engineering/` grouped by theme and cleaning method."
   ],
   "id": "8bed3a1513e77c26"
  },
  {
   "cell_type": "code",
   "metadata": {
    "ExecuteTime": {
     "end_time": "2025-06-29T15:09:36.005031Z",
     "start_time": "2025-06-29T15:09:35.675738Z"
    }
   },
   "source": [
    "from features import extract_from_clean\n",
    "\n",
    "# This will write Parquet feature files into outputs/features/*\n",
    "extract_from_clean(fs=256.0)"
   ],
   "id": "8e378109dd95c15b",
   "outputs": [
    {
     "ename": "FileNotFoundError",
     "evalue": "[WinError 3] The system cannot find the path specified: 'partial_discharge_project'",
     "output_type": "error",
     "traceback": [
      "\u001B[31m---------------------------------------------------------------------------\u001B[39m",
      "\u001B[31mFileNotFoundError\u001B[39m                         Traceback (most recent call last)",
      "\u001B[36mCell\u001B[39m\u001B[36m \u001B[39m\u001B[32mIn[5]\u001B[39m\u001B[32m, line 4\u001B[39m\n\u001B[32m      1\u001B[39m \u001B[38;5;28;01mfrom\u001B[39;00m\u001B[38;5;250m \u001B[39m\u001B[34;01mfeatures\u001B[39;00m\u001B[38;5;250m \u001B[39m\u001B[38;5;28;01mimport\u001B[39;00m extract_from_clean\n\u001B[32m      3\u001B[39m \u001B[38;5;66;03m# This will write Parquet feature files into outputs/features/*\u001B[39;00m\n\u001B[32m----> \u001B[39m\u001B[32m4\u001B[39m \u001B[43mextract_from_clean\u001B[49m\u001B[43m(\u001B[49m\u001B[43mfs\u001B[49m\u001B[43m=\u001B[49m\u001B[32;43m256.0\u001B[39;49m\u001B[43m)\u001B[49m\n",
      "\u001B[36mFile \u001B[39m\u001B[32m~\\IdeaProjects\\partial_discharge_compare\\features\\extract_from_clean.py:119\u001B[39m, in \u001B[36mrun\u001B[39m\u001B[34m(fs)\u001B[39m\n\u001B[32m    117\u001B[39m catalog = load_feature_catalog()\n\u001B[32m    118\u001B[39m root = Path(config.CONFIG.project.root_dir)\n\u001B[32m--> \u001B[39m\u001B[32m119\u001B[39m \u001B[43m\u001B[49m\u001B[38;5;28;43;01mfor\u001B[39;49;00m\u001B[43m \u001B[49m\u001B[43mstation\u001B[49m\u001B[43m \u001B[49m\u001B[38;5;129;43;01min\u001B[39;49;00m\u001B[43m \u001B[49m\u001B[43mroot\u001B[49m\u001B[43m.\u001B[49m\u001B[43miterdir\u001B[49m\u001B[43m(\u001B[49m\u001B[43m)\u001B[49m\u001B[43m:\u001B[49m\n\u001B[32m    120\u001B[39m \u001B[43m    \u001B[49m\u001B[43mdata_clean\u001B[49m\u001B[43m \u001B[49m\u001B[43m=\u001B[49m\u001B[43m \u001B[49m\u001B[43mstation\u001B[49m\u001B[43m \u001B[49m\u001B[43m/\u001B[49m\u001B[43m \u001B[49m\u001B[33;43m\"\u001B[39;49m\u001B[33;43mdata_clean\u001B[39;49m\u001B[33;43m\"\u001B[39;49m\n\u001B[32m    121\u001B[39m \u001B[43m    \u001B[49m\u001B[38;5;28;43;01mif\u001B[39;49;00m\u001B[43m \u001B[49m\u001B[38;5;129;43;01mnot\u001B[39;49;00m\u001B[43m \u001B[49m\u001B[43mdata_clean\u001B[49m\u001B[43m.\u001B[49m\u001B[43mis_dir\u001B[49m\u001B[43m(\u001B[49m\u001B[43m)\u001B[49m\u001B[43m:\u001B[49m\n",
      "\u001B[36mFile \u001B[39m\u001B[32m~\\anaconda3\\envs\\pyblinker\\Lib\\pathlib.py:1056\u001B[39m, in \u001B[36mPath.iterdir\u001B[39m\u001B[34m(self)\u001B[39m\n\u001B[32m   1050\u001B[39m \u001B[38;5;28;01mdef\u001B[39;00m\u001B[38;5;250m \u001B[39m\u001B[34miterdir\u001B[39m(\u001B[38;5;28mself\u001B[39m):\n\u001B[32m   1051\u001B[39m \u001B[38;5;250m    \u001B[39m\u001B[33;03m\"\"\"Yield path objects of the directory contents.\u001B[39;00m\n\u001B[32m   1052\u001B[39m \n\u001B[32m   1053\u001B[39m \u001B[33;03m    The children are yielded in arbitrary order, and the\u001B[39;00m\n\u001B[32m   1054\u001B[39m \u001B[33;03m    special entries '.' and '..' are not included.\u001B[39;00m\n\u001B[32m   1055\u001B[39m \u001B[33;03m    \"\"\"\u001B[39;00m\n\u001B[32m-> \u001B[39m\u001B[32m1056\u001B[39m     \u001B[38;5;28;01mfor\u001B[39;00m name \u001B[38;5;129;01min\u001B[39;00m \u001B[43mos\u001B[49m\u001B[43m.\u001B[49m\u001B[43mlistdir\u001B[49m\u001B[43m(\u001B[49m\u001B[38;5;28;43mself\u001B[39;49m\u001B[43m)\u001B[49m:\n\u001B[32m   1057\u001B[39m         \u001B[38;5;28;01myield\u001B[39;00m \u001B[38;5;28mself\u001B[39m._make_child_relpath(name)\n",
      "\u001B[31mFileNotFoundError\u001B[39m: [WinError 3] The system cannot find the path specified: 'partial_discharge_project'"
     ]
    }
   ],
   "execution_count": 5
  }
 ],
 "metadata": {
  "kernelspec": {
   "display_name": "Python 3",
   "language": "python",
   "name": "python3"
  },
  "language_info": {
   "name": "python",
   "version": "3.12"
  }
 },
 "nbformat": 4,
 "nbformat_minor": 5
}
